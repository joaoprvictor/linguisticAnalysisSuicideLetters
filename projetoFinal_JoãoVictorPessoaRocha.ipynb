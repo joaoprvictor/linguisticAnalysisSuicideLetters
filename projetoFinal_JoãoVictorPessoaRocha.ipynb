{
  "nbformat": 4,
  "nbformat_minor": 0,
  "metadata": {
    "accelerator": "GPU",
    "colab": {
      "provenance": []
    },
    "kernelspec": {
      "display_name": "Python 3",
      "name": "python3"
    }
  },
  "cells": [
    {
      "cell_type": "markdown",
      "metadata": {
        "id": "YgSgQSuqrsmw"
      },
      "source": [
        "# **Corpus: CEASE, a Corpus of Emotion Annotated Suicide notes in English**\n",
        "Soumitra Ghosh, Asif Ekbal, Pushpak Bhattacharyya; 2020\n",
        "\n",
        "[Access link](https://aclanthology.org/2020.lrec-1.201/)\n",
        "\n",
        "\n",
        "\n",
        "*   Corpus de cartas de suicídio em inglês classificadas por emoções (já disponível dessa forma)\n",
        "*   Conjunto de 205 cartas\n",
        "*   Emoções marcadas: *forgiveness, happiness_peacefulness, love, pride, hopefulness, thankfulness, blame, anger, fear, abuse, sorrow, hopelessness, guilt, information, instructions*"
      ]
    },
    {
      "cell_type": "markdown",
      "metadata": {
        "id": "PpErG8VYej0D"
      },
      "source": [
        "# Trabalhando com o corpus inteiro"
      ]
    },
    {
      "cell_type": "code",
      "metadata": {
        "id": "KPRBCTeAJCfU"
      },
      "source": [
        "#instalando o nltk\n",
        "import nltk\n",
        "nltk.download('all')\n",
        "# from nltk.book import *"
      ],
      "execution_count": null,
      "outputs": []
    },
    {
      "cell_type": "code",
      "metadata": {
        "id": "vc3f-FgrGZgV"
      },
      "source": [
        "# pacotes para a word cloud\n",
        "import os\n",
        "\n",
        "from os import path\n",
        "from wordcloud import WordCloud"
      ],
      "execution_count": null,
      "outputs": []
    },
    {
      "cell_type": "code",
      "metadata": {
        "id": "kS2c20e6ai1z"
      },
      "source": [
        "# pacote mostrar a WC\n",
        "import matplotlib.pyplot as plt"
      ],
      "execution_count": null,
      "outputs": []
    },
    {
      "cell_type": "code",
      "metadata": {
        "id": "YhRdjvM-ab9k"
      },
      "source": [
        "# pacotes para stemmização\n",
        "# from nltk.stem.snowball import SnowballStemmer\n",
        "\n",
        "# stemmer = SnowballStemmer(language='english')"
      ],
      "execution_count": null,
      "outputs": []
    },
    {
      "cell_type": "code",
      "metadata": {
        "id": "kqRIkRMKgBMi"
      },
      "source": [
        "# pacote para exportar df\n",
        "import pandas as pd"
      ],
      "execution_count": null,
      "outputs": []
    },
    {
      "cell_type": "code",
      "metadata": {
        "colab": {
          "base_uri": "https://localhost:8080/"
        },
        "id": "XSdnb63xAerg",
        "outputId": "7334ae0d-888e-429a-cf7e-d9fbee540fbb"
      },
      "source": [
        "from google.colab import drive\n",
        "drive.mount('/content/drive')"
      ],
      "execution_count": null,
      "outputs": [
        {
          "output_type": "stream",
          "name": "stdout",
          "text": [
            "Mounted at /content/drive\n"
          ]
        }
      ]
    },
    {
      "cell_type": "code",
      "metadata": {
        "id": "YcyLg_K8JGr4"
      },
      "source": [
        "# pasta dos textos\n",
        "path = \"/content/drive/MyDrive/Outros/Corpora/CEASE_Corpus/data/\"\n",
        "path2 = \"/content/drive/MyDrive/Outros/Corpora/CEASE_Corpus/data/cartas/\""
      ],
      "execution_count": null,
      "outputs": []
    },
    {
      "cell_type": "code",
      "metadata": {
        "id": "gZTNyM4CAtav"
      },
      "source": [
        "#ABRE O CORPUS ORIGINAL \n",
        "# letter_corpus é um arquivo com todas as cartas \n",
        "with open(path + 'letters_corpus.txt', 'r', encoding='utf-8') as f:\n",
        "    \n",
        "    #LÊ O TEXTO\n",
        "    text = f.read()\n",
        "\n",
        "#print(text)"
      ],
      "execution_count": null,
      "outputs": []
    },
    {
      "cell_type": "code",
      "metadata": {
        "id": "smlYy9-He3SG"
      },
      "source": [
        "# tirando as marcas de pontuação\n",
        "import re\n",
        "letters = re.sub('\\.', ' ', text)\n",
        "letters = re.sub('!', ' ', letters)\n",
        "letters = re.sub(',', ' ', letters)\n",
        "letters = re.sub('\\?', ' ', letters)\n",
        "letters = re.sub('-', ' ', letters)\n",
        "\n",
        "# # fazendo mais edições na grafia\n",
        "letters = re.sub(\"'ll\", ' will', letters)\n",
        "letters = re.sub(\"wont\", 'will not', letters)\n",
        "letters = re.sub(\"won't\", 'will not', letters)\n",
        "letters = re.sub('name', 'name', letters)\n",
        "letters = re.sub(' +', ' ', letters)\n",
        "letters = \" \".join([k.lower() if k != 'NAME' else k for k in letters.split()])\n",
        "# print(letters)"
      ],
      "execution_count": null,
      "outputs": []
    },
    {
      "cell_type": "code",
      "metadata": {
        "colab": {
          "base_uri": "https://localhost:8080/"
        },
        "id": "jO3jUMLuMNSp",
        "outputId": "9cf52394-efe2-4dba-f2aa-4f275ed7f3bc"
      },
      "source": [
        "import nltk\n",
        "nltk.download('punkt')\n",
        "\n",
        "# tokenizar as palavras\n",
        "words_letters = nltk.word_tokenize(letters)\n",
        "words_list = nltk.Text(words_letters)\n",
        "\n",
        "# conhecendo o corpus\n",
        "print('O número de tokens no corpus é ' + str(len(words_letters)))\n",
        "print('O número de types no corpus é ' + str(len(set(words_letters))))\n",
        "ratio1 = len(set(words_letters)) / len(words_letters) \n",
        "ratio = ratio1 * 100\n",
        "print('A razão type-token no corpus é ' + str(ratio))"
      ],
      "execution_count": null,
      "outputs": [
        {
          "output_type": "stream",
          "name": "stdout",
          "text": [
            "O número de tokens no corpus é 31274\n",
            "O número de types no corpus é 3975\n",
            "A razão type-token no corpus é 12.710238536803734\n"
          ]
        },
        {
          "output_type": "stream",
          "name": "stderr",
          "text": [
            "[nltk_data] Downloading package punkt to /root/nltk_data...\n",
            "[nltk_data]   Package punkt is already up-to-date!\n"
          ]
        }
      ]
    },
    {
      "cell_type": "code",
      "metadata": {
        "id": "sOWyUwZhqrOI",
        "colab": {
          "base_uri": "https://localhost:8080/"
        },
        "outputId": "163a73f3-ca50-4632-fffe-3fab3dcb8a94"
      },
      "source": [
        "# distribuição da frequência\n",
        "from nltk import FreqDist\n",
        "freq = FreqDist(words_list)\n",
        "freq.most_common(50)"
      ],
      "execution_count": null,
      "outputs": [
        {
          "output_type": "execute_result",
          "data": {
            "text/plain": [
              "[('i', 1966),\n",
              " ('to', 1020),\n",
              " ('the', 994),\n",
              " ('and', 787),\n",
              " ('you', 631),\n",
              " ('my', 612),\n",
              " ('of', 566),\n",
              " ('a', 557),\n",
              " ('not', 552),\n",
              " ('have', 468),\n",
              " ('is', 464),\n",
              " ('me', 432),\n",
              " ('that', 422),\n",
              " ('it', 397),\n",
              " ('in', 373),\n",
              " ('am', 370),\n",
              " ('for', 335),\n",
              " ('this', 291),\n",
              " ('be', 263),\n",
              " ('do', 256),\n",
              " ('will', 223),\n",
              " ('NAME', 213),\n",
              " ('but', 197),\n",
              " ('all', 194),\n",
              " ('so', 188),\n",
              " ('was', 184),\n",
              " ('can', 166),\n",
              " ('with', 156),\n",
              " ('life', 152),\n",
              " ('no', 142),\n",
              " ('on', 141),\n",
              " ('as', 141),\n",
              " ('love', 128),\n",
              " ('they', 127),\n",
              " ('are', 125),\n",
              " ('at', 116),\n",
              " ('would', 115),\n",
              " ('or', 111),\n",
              " ('know', 110),\n",
              " ('if', 108),\n",
              " ('like', 107),\n",
              " ('from', 96),\n",
              " ('we', 96),\n",
              " ('what', 95),\n",
              " ('had', 94),\n",
              " ('people', 92),\n",
              " ('been', 90),\n",
              " ('your', 88),\n",
              " ('one', 88),\n",
              " ('any', 88)]"
            ]
          },
          "metadata": {},
          "execution_count": 10
        }
      ]
    },
    {
      "cell_type": "code",
      "metadata": {
        "id": "BQJaJ9OuI-8n"
      },
      "source": [
        "# fazendo a stemmização do corpus\n",
        "# for token in words_letters:\n",
        "    # stemmer1 = stemmer.stem(token)\n",
        "    # print(token, '=>', stemmer1)"
      ],
      "execution_count": null,
      "outputs": []
    },
    {
      "cell_type": "code",
      "metadata": {
        "id": "y0DsZqBmG7iD"
      },
      "source": [
        "# gerar uma word cloud\n",
        "wordcloud = WordCloud(max_font_size=50, max_words=20, background_color=\"white\", colormap='inferno_r').generate(letters)"
      ],
      "execution_count": null,
      "outputs": []
    },
    {
      "cell_type": "code",
      "metadata": {
        "id": "fawt66ETG--z",
        "colab": {
          "base_uri": "https://localhost:8080/",
          "height": 198
        },
        "outputId": "9e3981e4-2e77-4a94-f457-ea1112b2d913"
      },
      "source": [
        "# mostrar a wc gerada\n",
        "plt.imshow(wordcloud, interpolation='bilinear')\n",
        "plt.axis(\"off\")\n",
        "# store to file\n",
        "plt.savefig(\"wordcloud_letters.png\", format=\"png\")\n",
        "plt.show()"
      ],
      "execution_count": null,
      "outputs": [
        {
          "output_type": "display_data",
          "data": {
            "text/plain": [
              "<Figure size 432x288 with 1 Axes>"
            ],
            "image/png": "[encoded data removed]"
          },
          "metadata": {
            "needs_background": "light"
          }
        }
      ]
    },
    {
      "cell_type": "code",
      "metadata": {
        "id": "pL7ndj05HPza"
      },
      "source": [
        "# colocar uma fonte maior (max_font_size)\n",
        "# wordcloud = WordCloud(width=4000, height=3000, background_color='white', \n",
        "#                       colormap = 'magma', max_font_size=980).generate(letters)\n",
        "# plt.figure()\n",
        "# plt.imshow(wordcloud, interpolation=\"bilinear\")\n",
        "# plt.axis(\"off\")\n",
        "# plt.show()\n",
        "\n",
        "# Name está muito frequente, porque era onde os autores colocaram nome deles\n",
        "# mesmos ou de alguém próximo. Logo, por motivos éticos os pesquisadores resolveram\n",
        "# substituir esse tipo de informação pela tag NAME\n",
        "\n",
        "# O NAME está aparecendo 3 vezes e não consegui entender o porquê"
      ],
      "execution_count": null,
      "outputs": []
    },
    {
      "cell_type": "code",
      "metadata": {
        "id": "qf46m0WWpw0z"
      },
      "source": [
        "# exportando a WC\n",
        "# wordcloud.to_file('most_freq_w_letters.png')"
      ],
      "execution_count": null,
      "outputs": []
    },
    {
      "cell_type": "code",
      "metadata": {
        "id": "v-37H9FILqT0"
      },
      "source": [
        "# in case I wanted a masked word cloud:\n",
        "# https://amueller.github.io/word_cloud/auto_examples/masked.html"
      ],
      "execution_count": null,
      "outputs": []
    },
    {
      "cell_type": "markdown",
      "metadata": {
        "id": "1nON7PO2NkL9"
      },
      "source": [
        "Duas palavras que ficaram grandes na Word cloud e que chamaram minha atenção foram: ***'life'*** e ***'will'***, porque, considerando o tipo de texto do corpus, os autores dos textos estão literalmente terminando sua vida.\n",
        "\n",
        "1. **Life** = como já mencionado, os autores estão finalizando sua vida, logo é interessante ver como essa palavra está sendo usada: para reclamar da vida? para encorajar os outros a aproveitar a vida? fazer uma narrativa de vida?\n",
        "\n",
        "2. **Will** = neste caso, resta saber se é o verbo auxiliar de futuro simples do inglês (por ex. *'I will go out tonight'*), se é o substantivo 'vontade' (*'My will is for you to be happy'*) ou o verbo 'ter vontade de' (*'I'm willing to take the risk'*). Eu estaria mais interessado nas ocorrências como verbo marcador de futuro, pois, seria interessante ver se os autores estão fazendo predições sobre eles mesmos (ainda que eles não estaram entre os conhecidos), sobre a família e amigos ou sobre outro assunto, ou até mesmo uma promessa.\n",
        "\n",
        "\n",
        "\n",
        "> *As frases de exemplo foram feitas por mim. Logo abaixo veremos como essas palavras aparecem no corpus.*\n",
        "\n"
      ]
    },
    {
      "cell_type": "code",
      "metadata": {
        "colab": {
          "base_uri": "https://localhost:8080/"
        },
        "id": "FNgGxAbwrDew",
        "outputId": "9e12988e-e192-4e15-e88d-d1188a0f364b"
      },
      "source": [
        "words_list.collocations()"
      ],
      "execution_count": null,
      "outputs": [
        {
          "output_type": "stream",
          "name": "stdout",
          "text": [
            "fuck fuck; fag boy; NAME NAME; commit suicide; anyone else; take care;\n",
            "united states; good bye; name removed; first time; last wish; nag nag;\n",
            "justice system; good luck; heika banzai; tenno heika; god forgive; may\n",
            "concern; phone calls; sweet cesspool\n"
          ]
        }
      ]
    },
    {
      "cell_type": "code",
      "source": [
        "# linhas de concordância de allness terms\n",
        "allness = ['everyone', 'every day', 'everybody', 'nobody', 'no one', 'never', 'always', \n",
        "           'completly', 'forever', 'perfectly', 'all']\n",
        "for term in allness:\n",
        "  print(term + \" \"+ str(letters.count(term)))\n",
        "  ratioAll = letters.count(term) / len(words_letters)\n",
        "  print(term + \" \"+str( ratioAll))"
      ],
      "metadata": {
        "id": "-0YP8UQZcWTw",
        "colab": {
          "base_uri": "https://localhost:8080/"
        },
        "outputId": "53367c98-cdb1-4d12-c10c-7899808e58e0"
      },
      "execution_count": null,
      "outputs": [
        {
          "output_type": "stream",
          "name": "stdout",
          "text": [
            "everyone 33\n",
            "everyone 0.001055189614376159\n",
            "every day 3\n",
            "every day 9.592632857965082e-05\n",
            "everybody 13\n",
            "everybody 0.00041568075717848693\n",
            "nobody 7\n",
            "nobody 0.00022382810001918526\n",
            "no one 18\n",
            "no one 0.0005755579714779049\n",
            "never 89\n",
            "never 0.0028458144145296414\n",
            "always 67\n",
            "always 0.002142354671612202\n",
            "completly 0\n",
            "completly 0.0\n",
            "forever 13\n",
            "forever 0.00041568075717848693\n",
            "perfectly 0\n",
            "perfectly 0.0\n",
            "all 365\n",
            "all 0.011671036643857517\n"
          ]
        }
      ]
    },
    {
      "cell_type": "code",
      "source": [
        "# linhas de concordância de 'life'\n",
        "life_concordance = words_list.concordance('all')"
      ],
      "metadata": {
        "colab": {
          "base_uri": "https://localhost:8080/"
        },
        "id": "xCr9HVi6GWPN",
        "outputId": "a8f9fb2a-15db-496a-e16f-92aae45d8495"
      },
      "execution_count": null,
      "outputs": [
        {
          "output_type": "stream",
          "name": "stdout",
          "text": [
            "Displaying 25 of 194 matches:\n",
            "after all i was stupid to be used because i wor\n",
            "ears has made work a torture to do at all i hve receved hate letters telling me\n",
            "a fuss about the entrance examination all the time therefore i die although i w\n",
            " they do not fucking know me they are all assholes i hate everyone know i am a \n",
            "ucking know that for sure they should all be in prison they are horrible i hate\n",
            "and a rotten i wish i were never born all you want in life is partying your wom\n",
            "a great love for me and our baby when all the time you did not want us i see no\n",
            "e jieitai is unconstitutional you are all unconstitutional do not you understan\n",
            "gency of our government have dried up all sources of credit for us we die becau\n",
            "ause you are not worth any emotion at all it is what you cost me that hurts and\n",
            "d my birthday dinner when i came back all i wanted was you and my happiness you\n",
            "ependence day from life be happy that all the bad shit i feel is goint fo be ov\n",
            "ppy now i am happy now now that it is all said i feel at peace i appreciate the\n",
            " become crystal clear how confused it all appears little did i then think that \n",
            "now my head is horrible am so nervous all the time i loved ron too much but is \n",
            "to asa family sorry for disappointing all of you NAME you were tired of life wi\n",
            "can remember i am just sorry i burden all of you the way i have what did i prov\n",
            "lways brought you down i am sorry for all that i have done to us lee i am sorry\n",
            "e and forgive me so please forgive me all those i love and may god forgive me t\n",
            "nutes to write this please forgive me all for taking my own life so early pleas\n",
            " what death is sleep i am tired of it all i am bored with my bodily functions a\n",
            " marshalls summing up i have given up all hope my mind refuses to think clearly\n",
            "ith distaste for what i have done for all my works there is only one answer sui\n",
            "g know i just want to die and that is all so i do not have to put up with this \n",
            "e that i have ever been because it is all over i am trying to watch tv but i do\n"
          ]
        }
      ]
    },
    {
      "cell_type": "code",
      "metadata": {
        "id": "GoRUxnsmPHwo"
      },
      "source": [
        "# linhas de concordância de 'life'\n",
        "life_concordance = words_list.concordance('life')"
      ],
      "execution_count": null,
      "outputs": []
    },
    {
      "cell_type": "code",
      "source": [
        "# linhas de concordância de 'life'\n",
        "would_concordance = words_list.concordance('would', lines = 115)"
      ],
      "metadata": {
        "colab": {
          "base_uri": "https://localhost:8080/"
        },
        "id": "nD5FJjFaGC3z",
        "outputId": "59f7bf6c-bc48-4725-80b3-fcd802cb9047"
      },
      "execution_count": null,
      "outputs": [
        {
          "output_type": "stream",
          "name": "stdout",
          "text": [
            "Displaying 115 of 115 matches:\n",
            "hat i have pondered it and decided i would hurt them less dead than alive dear \n",
            " the time therefore i die although i would like to enter a firstrate university\n",
            "u are such an ugly fag boy no faggot would even fuck an uglyfagg boiy like you \n",
            " i eased into coming out as trans it would be less of a shock i am leaving you \n",
            "es how you with your generous nature would have laughed exulted if you had seen\n",
            " of credit for us we die because you would not let us live in peace it has made\n",
            "lled me i do not want you to think i would kill myself over you because you are\n",
            "love NAME smiley face inside the o i would have been lucky to make it to the fr\n",
            "re like life in the twilight zone it would not surprise me to wake up this minu\n",
            "d i been encouraged nothing but good would have come from me because when encou\n",
            "coming i can not go on i am afraid i would break down i need to go to a dr but \n",
            "t i am afraid i was afraid that they would get down on me but they did not it i\n",
            " became increasingly scared that you would hurt me mentally or physically what \n",
            "f i had done this a long time ago it would have saved a lot of pain dear wife b\n",
            " wife and children if i were alone i would not have committed suicide i do not \n",
            "hings the worst crime i can think of would be to rip people off by faking it an\n",
            "as if i am having 100 fun the life i would have lived is not worth living in be\n",
            "m of political persecution my prison would simply be an american gulag i realiz\n",
            " is unbearable simplest and cheapest would be to use the body in a university d\n",
            "a university dissecting laboratory i would aim for my exit date to predate disc\n",
            "there is no hope left to try further would mean many more months of bed rest mo\n",
            "uit telling them theyre dying if you would also stop some of this nonsense adul\n",
            "not wish my pockets to be searched i would have let you shoot me without furthe\n",
            "ned feel fine when will it be over i would like my sister frances to have the p\n",
            "basket NAME keeps calling i wish you would you give my personal things to NAME \n",
            "loved me and said i was fine and you would help me but at school it was like be\n",
            " i love you guys without you i never would have made it through this far at tim\n",
            " i only hope this has done the job i would hope that someone could help me proo\n",
            "ing this encourages someone else who would benefit from it to take the leap and\n",
            "conceive of immortality i think NAME would like to have him with him at that ti\n",
            " were confident that right and truth would prevail and i would be acquitted and\n",
            " right and truth would prevail and i would be acquitted and we would devote the\n",
            "vail and i would be acquitted and we would devote the rest of our lives working\n",
            " like NAME NAME NAME NAME NAME etc i would like to send you letters so you can \n",
            "u it is something i have to do and i would appreciate if you could do that for \n",
            "or a little bit of kindness from you would of made everything so different but \n",
            "l character and i feel that a stigma would attach unless i let the public at la\n",
            "ay i told you that after the trial i would give you the story of the decade goo\n",
            "not allow my enemies to execute me i would always have accepted death by firing\n",
            "nish blade to gash my throat after i would climbed across the high railing of t\n",
            " slash me knocked or fainting till i would fall unable to keep my skull down bu\n",
            "ull down but fearless unless my wife would not let me out of the house unless t\n",
            "now while i can still do something i would like to see hell this note was left \n",
            "el that i am doing the right thing i would have let them shoot me i had so much\n",
            "n years ago so many people thought i would go straight to the top i do not want\n",
            "it if anybody could have saved me it would have been you everything has gone fr\n",
            " of my people and my country also it would consume a substantial part of our mo\n",
            "hat his family be spared the sight i would actually prefer to render science at\n",
            " a religious ceremony which probably would be refused anyhow this is not to sho\n",
            "riching value of suicide i decided i would set an exit date and prepare to meet\n",
            "t a dung so sweet that even children would look on and smile to thrust all that\n",
            "rom the outset that a death sentence would be pronounced against me as i have a\n",
            "when saturday at nine i will sir and would any man believe i went home with a l\n",
            "e and perhaps the majority of people would like to destroy the best thing that \n",
            " being could blend with hers my life would have more meaning than before march \n",
            "hese words to her surviving children would not it be neat if i were to take the\n",
            " no one and feel i have no enemies i would like to send my regards to miss s in\n",
            " up to my friends my work is done it would be 634 p m civilian time this is slo\n",
            "ever had a love affair although NAME would like to drag pete into it also dr NA\n",
            " concerned with whether i personally would be better off dead it is not my frie\n",
            "ions plus the doctor s weekly visits would total to over 200 a week i can not b\n",
            "ve in my checking account runs out i would have to return home back to the same\n",
            " of our home but all it put together would be like a drop ion the bucket beside\n",
            " experienced simpleton who obviously would rather be an emasculated infantile c\n",
            "elling me that it was a phase that i would never truly be a girl that god does \n",
            "started taking me to a therapist but would only take me to christian therapists\n",
            "one about what happened to me people would likely draw the wrong conclusions th\n",
            "i had no doubt that in the future we would be close as friends or more unlike w\n",
            "otect our privacy and was advised it would end the press hype i do not want to \n",
            " term relationship experiences and i would take whatever it took to make it wor\n",
            "y nerves are ready to break and what would happen if they did you will say i am\n",
            "ent to other public officials but it would not be a deterrent because every pub\n",
            "knows me knows that i am innocent it would not be a legitimate punishment becau\n",
            "ay i told you that after the trial i would give you the story of the decade to \n",
            "e bottle was still in my apartment i would one out and had drinks came home and\n",
            "because they did not know how long i would be staying i would tried twice but t\n",
            "t know how long i would be staying i would tried twice but those times were not\n",
            " first woke up i did not think there would be anything wrong with me and then i\n",
            " i have not chosen to be forgotten i would not be around when you read this let\n",
            "e to you for days but i know nothing would actually make a difference to you 67\n",
            "then i fell for you a love i thought would bring out the best in me i do not kn\n",
            "ed me once we made it to one year we would get engaged i wish you had loved me \n",
            " dying now though living is no newer would you note that if i commit suicide to\n",
            "the forces as an officer cadet which would have allowed me possibly to get into\n",
            "oved the men women distinction there would be women only in the graceful events\n",
            "sk for i always felt that the answer would be no and about bud i want to dismis\n",
            "s of leaving a note i thought that i would not be able to describe why i want t\n",
            "it if anybody could have saved me it would have been you everything has gone fr\n",
            "ved 47 years there are not 47 days i would live over again if i could avoid it \n",
            "t does not and i think it does not i would much prefer i have not time to make \n",
            " make this a legal requirement but i would much prefer that you as executrix un\n",
            "ol but if there is not i am sure you would out of the insurance payments at lea\n",
            "t have lost i had some friends and i would have missed them i did not have to g\n",
            "couple of years every now and then i would take speed to feel normal downers st\n",
            "edy if i had a suicidal friend now i would ask them why do not you have any alt\n",
            "uarter i called suicide prevention i would called them before and the people we\n",
            "hone calls but she made me promise i would not try it without calling back firs\n",
            "idin from a wisdom tooth operation i would been thinking about it for a month o\n",
            "happens to a lot of people the pills would not hurt me i felt tingly like i mig\n",
            "oothache it was the intention that i would die in the woods so that it would ta\n",
            " i would die in the woods so that it would take a few days before i was possibl\n",
            "n a long day the motor got so hot it would not run so i just had to sit here an\n",
            "write this properly i can not read i would rather get myself i have long determ\n",
            "served deaths a sad bone bruised you would say and yet she waits for me year af\n",
            "m an ugly faggot and no other faggot would fuck me who says i want to fuck or w\n",
            "r it i am scared i wo not stop and i would want to stop i am breaking into piec\n",
            "ositive experience than a negative i would stick around until infirmity set in \n",
            " i was 16 i realized that my parents would never come around and that i would h\n",
            "s would never come around and that i would have to wait until i was 18 to start\n",
            "ten i could not use the bathroom and would stand petrified whenever i needed to\n",
            "m assuming were your attempt to help would not have if i had stayed another min\n",
            "ave if i had stayed another minute i would have painted the walls and stained t\n",
            "es down the road the rest of my life would only be a burden for others i am una\n",
            " i spent money on you selflessly you would throw in my face when i would cry fo\n",
            "ly you would throw in my face when i would cry for you i leave this place with \n"
          ]
        }
      ]
    },
    {
      "cell_type": "code",
      "metadata": {
        "id": "J7fMAWHUPwwe",
        "colab": {
          "base_uri": "https://localhost:8080/"
        },
        "outputId": "b9d18b74-a0f1-4ccd-f191-90ebab6eafdb"
      },
      "source": [
        "# linhas de concordância de 'will'\n",
        "will_concordance = words_list.concordance('will')"
      ],
      "execution_count": null,
      "outputs": [
        {
          "output_type": "stream",
          "name": "stdout",
          "text": [
            "Displaying 25 of 223 matches:\n",
            "ny eternal torment worse than mine i will have to be shown i do not know if it\n",
            "fault great anxiety the constitution will remain forever you are finished the \n",
            "turely should never have been born i will go through with my heels at your hun\n",
            "ven fuck an uglyfagg boiy like you i will not be the faggot the queer the fag \n",
            "uck fuck god damn assholes asshole i will stick it up his ass asshole can fagg\n",
            "s in this sweet cesspool their lives will be tough enough and i have become a \n",
            "o you but at least an honest one who will mean what she says i am leaving you \n",
            "constitutional do not you understand will any of you rise with me you will not\n",
            "and will any of you rise with me you will not rise the irs and its liens which\n",
            "er finally forever they do not win i will win because i will be happy and they\n",
            "they do not win i will win because i will be happy and they are horrible peopl\n",
            " going to make it but never forget i will whoop your ass if you get too crazy \n",
            "erves get worse and i am afraid they will have to take me away though i am abo\n",
            "e slept horribly i am wondering if i will find time to think of the past as i \n",
            "ll of gas fumes i am afraid somebody will come i wonder what it is going to be\n",
            " i do not khow about that everything will be like i am kind of scared too i ke\n",
            "rry mom and dad but i am hppy that i will be in heaven and no more attacks i a\n",
            "too brief letter sorry i feel that i will not improve and can not keep on caus\n",
            "ou and as i am weary of life hope he will forgive me your husband NAME dear NA\n",
            " good god forgive me i hope that you will forgive me please forgive me forgive\n",
            "feel happy to because i know know it will be over soon but i have to die now b\n",
            "avenreally like mom and dad everying will be fine i am happeire that i have ev\n",
            " in progress to the brik family they will take care of them comrades do not th\n",
            "ast wish is to be cremated so nobody will grieve over my graveno one is to bla\n",
            "s the world enchained feel fine when will it be over i would like my sister fr\n"
          ]
        }
      ]
    },
    {
      "cell_type": "code",
      "metadata": {
        "id": "m2RsqnQXHvIp"
      },
      "source": [
        "# linhas de concordância de 'not'\n",
        "not_concordance = words_list.concordance('not')"
      ],
      "execution_count": null,
      "outputs": []
    },
    {
      "cell_type": "code",
      "metadata": {
        "id": "XB_L6BsXH0Ih"
      },
      "source": [
        "# linhas de concordância de 'no'\n",
        "no_concordance = words_list.concordance('no', lines = 142)"
      ],
      "execution_count": null,
      "outputs": []
    },
    {
      "cell_type": "markdown",
      "metadata": {
        "id": "nMJwwfcdIJzh"
      },
      "source": [
        "As duas palavras de negação (NOT e NO) juntas totalizaram 694 ocorrências (2,21% do total do corpus).\n",
        "\n",
        "Como esperado, NOT foi mais usado como a partícula de negação com verbos auxiliares, como em *do not* e *will not*. Enquanto NO foi mais usado como um intensificador, como em casos de *there's no way*; *I see no good in...*; *there is no further point in continuing my life*. NO está atuando como um advérbio de negação, porém esse uso vai além disso, ele intensifica o valor negativo e depreciativo da sentença (ou da collocation)"
      ]
    },
    {
      "cell_type": "code",
      "metadata": {
        "id": "S4KZgm7vRVlc"
      },
      "source": [
        "# anotação POS com NLTK\n",
        "import nltk\n",
        "nltk.download('averaged_perceptron_tagger')\n",
        "nltk.pos_tag(words_letters)\n",
        "\n",
        "# Ao olhar a classificação final, percebi que o pronome \"I\" estava \n",
        "# marcado como VB (verbo), por isso tentei usar outro anotador"
      ],
      "execution_count": null,
      "outputs": []
    },
    {
      "cell_type": "code",
      "source": [
        "# fazendo o POS tagging com spacy\n",
        "#print(texts_str)\n",
        "import spacy\n",
        "nlp = spacy.load(\"en_core_web_sm\")\n",
        "# words = []\n",
        "# noun_chunks = []\n",
        "# entities = []\n",
        "\n",
        "doc = nlp(letters)\n",
        "#transformando as tags + palavras em um dataframe\n",
        "spacy_tag = [(word, word.lemma_, word.tag_, word.pos_, word.dep_, ) for word in doc]\n",
        "text_df = pd.DataFrame(spacy_tag)\n",
        "text_df.columns = ['word', 'lemma', 'tags', 'pos', 'dep']\n",
        "# words.extend([w for w in list(doc) if w.is_alpha])"
      ],
      "metadata": {
        "id": "g5njDcoNCysJ"
      },
      "execution_count": null,
      "outputs": []
    },
    {
      "cell_type": "code",
      "source": [
        "print(text_df['pos'].value_counts())"
      ],
      "metadata": {
        "colab": {
          "base_uri": "https://localhost:8080/"
        },
        "id": "T3GJjqlCEJtt",
        "outputId": "b61e7e73-051e-4f37-920a-42ab27474c61"
      },
      "execution_count": null,
      "outputs": [
        {
          "output_type": "stream",
          "name": "stdout",
          "text": [
            "PRON     5917\n",
            "NOUN     4927\n",
            "VERB     4734\n",
            "AUX      2943\n",
            "ADP      2785\n",
            "DET      2183\n",
            "ADJ      1994\n",
            "ADV      1710\n",
            "PART     1304\n",
            "CCONJ    1113\n",
            "SCONJ     923\n",
            "PROPN     364\n",
            "NUM       251\n",
            "INTJ      143\n",
            "X          11\n",
            "Name: pos, dtype: int64\n"
          ]
        }
      ]
    },
    {
      "cell_type": "code",
      "metadata": {
        "id": "LolXxy0Uhggt"
      },
      "source": [
        "df"
      ],
      "execution_count": null,
      "outputs": []
    },
    {
      "cell_type": "code",
      "metadata": {
        "id": "Qd0ALRv4hohV"
      },
      "source": [
        "print(df.head())"
      ],
      "execution_count": null,
      "outputs": []
    },
    {
      "cell_type": "code",
      "metadata": {
        "id": "YJnBei4riLLz"
      },
      "source": [
        "# buscando pelas linhas com a palavra 'will'\n",
        "will_df = df.loc[df['word'] == 'will']\n",
        "\n",
        "# saber quais tags estão relacionadas a 'will'\n",
        "print(will_df['upos'].value_counts())\n",
        "\n",
        "# DF apenas com will como AUX\n",
        "will_aux_df = will_df.loc[will_df['upos'] == 'AUX'] #df.loc[(df['column_name'] >= A) & (df['column_name'] <= B)]\n",
        "print(will_aux_df.head())"
      ],
      "execution_count": null,
      "outputs": []
    },
    {
      "cell_type": "code",
      "metadata": {
        "id": "9fnIpHhzi5_p"
      },
      "source": [
        "# buscando pelas linhas com a palavra 'life'\n",
        "life_df = df.loc[df['word'] == 'life']\n",
        "\n",
        "# saber quais tags estão relacionadas a 'life'\n",
        "life_df['upos'].value_counts()"
      ],
      "execution_count": null,
      "outputs": []
    },
    {
      "cell_type": "code",
      "metadata": {
        "id": "0tjhQNW7lb2t"
      },
      "source": [
        "# buscando pelas linhas com advérbios\n",
        "ADV_df = df.loc[df['upos'] == 'ADV']"
      ],
      "execution_count": null,
      "outputs": []
    },
    {
      "cell_type": "markdown",
      "metadata": {
        "id": "x6RBNn6yzQhR"
      },
      "source": [
        "# Nesta parte, iremos comparar algumas cartas no corpus\n",
        "\n",
        "*OBS.: o corpus está dividido por sentimento. Por exemplo, todas as cartas classificadas como \"love\" estão no mesmo arquivo .txt*"
      ]
    },
    {
      "cell_type": "code",
      "metadata": {
        "id": "JObNgPLlzhrQ"
      },
      "source": [
        "# abrindo as cartas de dois sentimentos diferentes\n",
        "\n",
        "## abrindo as cartas de hopefulness\n",
        "with open(path2 + 'hopefulness_alltext.txt', 'r', encoding='utf-8') as hf:\n",
        "    \n",
        "    #LÊ O TEXTO\n",
        "    hopefulness = hf.read()\n",
        "\n",
        "# print(hopefulness)"
      ],
      "execution_count": null,
      "outputs": []
    },
    {
      "cell_type": "code",
      "metadata": {
        "id": "5p_FPtAs0uPW"
      },
      "source": [
        "## abrindo as cartas de hopelessness\n",
        "with open(path2 + 'hopelessness_alltext.txt', 'r', encoding='utf-8') as hn:\n",
        "    \n",
        "    #LÊ O TEXTO\n",
        "    hopelessness = hn.read()\n",
        "\n",
        "# print(hopelessness)"
      ],
      "execution_count": null,
      "outputs": []
    },
    {
      "cell_type": "markdown",
      "metadata": {
        "id": "dZWhvZti06uR"
      },
      "source": [
        "### **Explorando a carta de HOPEFULNESS**"
      ]
    },
    {
      "cell_type": "code",
      "metadata": {
        "id": "u7CRJKqS1B6d"
      },
      "source": [
        "# tirando as marcas de pontuação\n",
        "# dessa vez quis explorar um método diferente (antes fiz um a um\n",
        "# agora estou montando uma função)\n",
        "import re\n",
        "def process_text(raw_txt):\n",
        "  raw_txt = re.sub('\\.', ' ', raw_txt) \n",
        "  raw_txt = re.sub('!', ' ', raw_txt)\n",
        "  raw_txt = re.sub(',', ' ', raw_txt)\n",
        "  raw_txt = re.sub('\\?', ' ', raw_txt)\n",
        "  raw_txt = re.sub(\"'ll\", ' will', raw_txt)\n",
        "  raw_txt = re.sub(\"wont\", 'will not', raw_txt)\n",
        "  raw_txt = re.sub(\"won't\", 'will not', raw_txt)\n",
        "  raw_txt = re.sub('NAME', 'XXX', raw_txt)\n",
        "  raw_txt = re.sub('  ', ' ', raw_txt)\n",
        "  raw_txt = raw_txt.lower()\n",
        "  # raw_txt = salva em txt\n",
        "  return raw_txt"
      ],
      "execution_count": null,
      "outputs": []
    },
    {
      "cell_type": "code",
      "metadata": {
        "id": "aMY9LuMR2Vs5"
      },
      "source": [
        "hopefulness_text = process_text(hopefulness)"
      ],
      "execution_count": null,
      "outputs": []
    },
    {
      "cell_type": "code",
      "metadata": {
        "id": "DQZsCsde3f6A",
        "colab": {
          "base_uri": "https://localhost:8080/"
        },
        "outputId": "44095407-3e43-4ff4-daa4-600a9a4eb8ef"
      },
      "source": [
        "import nltk\n",
        "nltk.download('punkt')\n",
        "\n",
        "# tokenizar as palavras\n",
        "words_hopefulness = nltk.word_tokenize(hopefulness_text)\n",
        "hopefulness_list = nltk.Text(words_hopefulness)\n",
        "\n",
        "# conhecendo o corpus\n",
        "print('O número de tokens nas cartas de HOPEFULNESS é ' + str(len(words_hopefulness)))\n",
        "print('O número de types nas cartas de HOPEFULNESS é ' + str(len(set(words_hopefulness))))\n",
        "ratio1 = len(set(words_hopefulness)) / len(words_hopefulness) \n",
        "ratio = ratio1 * 100\n",
        "print('A razão type-token nas cartas de HOPEFULNESS é ' + str(ratio))"
      ],
      "execution_count": null,
      "outputs": [
        {
          "output_type": "stream",
          "name": "stdout",
          "text": [
            "O número de tokens nas cartas de HOPEFULNESS é 2306\n",
            "O número de types nas cartas de HOPEFULNESS é 619\n",
            "A razão type-token nas cartas de HOPEFULNESS é 26.843018213356462\n"
          ]
        },
        {
          "output_type": "stream",
          "name": "stderr",
          "text": [
            "[nltk_data] Downloading package punkt to /root/nltk_data...\n",
            "[nltk_data]   Package punkt is already up-to-date!\n"
          ]
        }
      ]
    },
    {
      "cell_type": "markdown",
      "metadata": {
        "id": "_sUa1TQvRtiI"
      },
      "source": [
        "### **Explorando a carta de HOPELESSNESS**"
      ]
    },
    {
      "cell_type": "code",
      "metadata": {
        "id": "Xp1VfqcARyE0"
      },
      "source": [
        "hopelessness_text = process_text(hopelessness)"
      ],
      "execution_count": null,
      "outputs": []
    },
    {
      "cell_type": "code",
      "metadata": {
        "id": "Fm_oYc3IR8cc",
        "colab": {
          "base_uri": "https://localhost:8080/"
        },
        "outputId": "68acf6da-3a10-4bce-c134-7915ccd9b32b"
      },
      "source": [
        "# tokenizar as palavras\n",
        "words_hopelessness = nltk.word_tokenize(hopelessness_text)\n",
        "hopelessness_list = nltk.Text(words_hopelessness)\n",
        "\n",
        "# conhecendo o corpus\n",
        "print('O número de tokens nas cartas de HOPELESSNESS é ' + str(len(words_hopelessness)))\n",
        "print('O número de types nas cartas de HOPELESSNESS é ' + str(len(set(words_hopelessness))))\n",
        "ratio1 = len(set(words_hopelessness)) / len(words_hopelessness) \n",
        "ratio = ratio1 * 100\n",
        "print('A razão type-token nas cartas de HOPELESSNESS é ' + str(ratio))"
      ],
      "execution_count": null,
      "outputs": [
        {
          "output_type": "stream",
          "name": "stdout",
          "text": [
            "O número de tokens nas cartas de HOPELESSNESS é 1127\n",
            "O número de types nas cartas de HOPELESSNESS é 388\n",
            "A razão type-token nas cartas de HOPELESSNESS é 34.42768411712511\n"
          ]
        }
      ]
    },
    {
      "cell_type": "markdown",
      "metadata": {
        "id": "VTyRbddqSdSq"
      },
      "source": [
        "# Comparando as cartas HOPEFULNESS e HOPELESSNESS"
      ]
    },
    {
      "cell_type": "code",
      "source": [
        "from nltk.corpus import stopwords\n",
        "nltk.download('stopwords')\n",
        "from nltk.tokenize import word_tokenize\n",
        " \n",
        "stop_words = set(stopwords.words('english'))\n",
        "\n",
        "\n",
        "#filtered hopeful\n",
        " \n",
        "filtered_hopeful = [w for w in words_hopefulness if not w.lower() in stop_words]\n",
        " \n",
        "filtered_hopeful = []\n",
        " \n",
        "for w in words_hopefulness:\n",
        "    if w not in stop_words:\n",
        "        filtered_hopeful.append(w)\n",
        "\n",
        "filtered_hopefulness_list = nltk.Text(filtered_hopeful)\n",
        "\n",
        "#filtered hopeless\n",
        "filtered_hopeless = [w for w in words_hopelessness if not w.lower() in stop_words]\n",
        " \n",
        "filtered_hopeless = []\n",
        " \n",
        "for w in words_hopelessness:\n",
        "    if w not in stop_words:\n",
        "        filtered_hopeless.append(w)\n",
        "\n",
        "filtered_hopelessness_list = nltk.Text(filtered_hopeless)"
      ],
      "metadata": {
        "id": "9ZwMir-_Cymz"
      },
      "execution_count": null,
      "outputs": []
    },
    {
      "cell_type": "code",
      "source": [
        "# distribuição da frequência\n",
        "from nltk import FreqDist\n",
        "#hopeful list\n",
        "freq_hopeful = FreqDist(filtered_hopefulness_list)\n",
        "freq_hopeful50 = freq_hopeful.most_common(50)\n",
        "\n",
        "#hopeless list\n",
        "freq_hopeless = FreqDist(filtered_hopelessness_list)\n",
        "freq_hopeless50 = freq_hopeless.most_common(50)"
      ],
      "metadata": {
        "id": "tcgrBJ9G_7MH"
      },
      "execution_count": null,
      "outputs": []
    },
    {
      "cell_type": "code",
      "source": [
        "hopes_freq_dist = pd.DataFrame({'hopelessness freq_dist':freq_hopeless50,\n",
        "                   'hopefulness freq_dist':freq_hopeful50})\n",
        "hopes_freq_dist.head(10)"
      ],
      "metadata": {
        "colab": {
          "base_uri": "https://localhost:8080/",
          "height": 363
        },
        "id": "EvEAddxCAuvz",
        "outputId": "59d69da0-dea0-4311-e597-a42451f67181"
      },
      "execution_count": null,
      "outputs": [
        {
          "output_type": "execute_result",
          "data": {
            "text/html": [
              "\n",
              "  <div id=\"df-22201937-7f67-47f0-b46c-d418fc3e3b22\">\n",
              "    <div class=\"colab-df-container\">\n",
              "      <div>\n",
              "<style scoped>\n",
              "    .dataframe tbody tr th:only-of-type {\n",
              "        vertical-align: middle;\n",
              "    }\n",
              "\n",
              "    .dataframe tbody tr th {\n",
              "        vertical-align: top;\n",
              "    }\n",
              "\n",
              "    .dataframe thead th {\n",
              "        text-align: right;\n",
              "    }\n",
              "</style>\n",
              "<table border=\"1\" class=\"dataframe\">\n",
              "  <thead>\n",
              "    <tr style=\"text-align: right;\">\n",
              "      <th></th>\n",
              "      <th>hopelessness freq_dist</th>\n",
              "      <th>hopefulness freq_dist</th>\n",
              "    </tr>\n",
              "  </thead>\n",
              "  <tbody>\n",
              "    <tr>\n",
              "      <th>0</th>\n",
              "      <td>(tired, 15)</td>\n",
              "      <td>(hope, 32)</td>\n",
              "    </tr>\n",
              "    <tr>\n",
              "      <th>1</th>\n",
              "      <td>(life, 13)</td>\n",
              "      <td>(wish, 14)</td>\n",
              "    </tr>\n",
              "    <tr>\n",
              "      <th>2</th>\n",
              "      <td>(hope, 9)</td>\n",
              "      <td>(peace, 14)</td>\n",
              "    </tr>\n",
              "    <tr>\n",
              "      <th>3</th>\n",
              "      <td>(one, 8)</td>\n",
              "      <td>(xxx, 13)</td>\n",
              "    </tr>\n",
              "    <tr>\n",
              "      <th>4</th>\n",
              "      <td>(know, 6)</td>\n",
              "      <td>(god, 13)</td>\n",
              "    </tr>\n",
              "    <tr>\n",
              "      <th>5</th>\n",
              "      <td>(feel, 5)</td>\n",
              "      <td>(may, 11)</td>\n",
              "    </tr>\n",
              "    <tr>\n",
              "      <th>6</th>\n",
              "      <td>(much, 5)</td>\n",
              "      <td>(know, 10)</td>\n",
              "    </tr>\n",
              "    <tr>\n",
              "      <th>7</th>\n",
              "      <td>(done, 5)</td>\n",
              "      <td>(see, 10)</td>\n",
              "    </tr>\n",
              "    <tr>\n",
              "      <th>8</th>\n",
              "      <td>(like, 5)</td>\n",
              "      <td>(love, 9)</td>\n",
              "    </tr>\n",
              "    <tr>\n",
              "      <th>9</th>\n",
              "      <td>(left, 5)</td>\n",
              "      <td>(please, 9)</td>\n",
              "    </tr>\n",
              "  </tbody>\n",
              "</table>\n",
              "</div>\n",
              "      <button class=\"colab-df-convert\" onclick=\"convertToInteractive('df-22201937-7f67-47f0-b46c-d418fc3e3b22')\"\n",
              "              title=\"Convert this dataframe to an interactive table.\"\n",
              "              style=\"display:none;\">\n",
              "        \n",
              "  <svg xmlns=\"http://www.w3.org/2000/svg\" height=\"24px\"viewBox=\"0 0 24 24\"\n",
              "       width=\"24px\">\n",
              "    <path d=\"M0 0h24v24H0V0z\" fill=\"none\"/>\n",
              "    <path d=\"M18.56 5.44l.94 2.06.94-2.06 2.06-.94-2.06-.94-.94-2.06-.94 2.06-2.06.94zm-11 1L8.5 8.5l.94-2.06 2.06-.94-2.06-.94L8.5 2.5l-.94 2.06-2.06.94zm10 10l.94 2.06.94-2.06 2.06-.94-2.06-.94-.94-2.06-.94 2.06-2.06.94z\"/><path d=\"M17.41 7.96l-1.37-1.37c-.4-.4-.92-.59-1.43-.59-.52 0-1.04.2-1.43.59L10.3 9.45l-7.72 7.72c-.78.78-.78 2.05 0 2.83L4 21.41c.39.39.9.59 1.41.59.51 0 1.02-.2 1.41-.59l7.78-7.78 2.81-2.81c.8-.78.8-2.07 0-2.86zM5.41 20L4 18.59l7.72-7.72 1.47 1.35L5.41 20z\"/>\n",
              "  </svg>\n",
              "      </button>\n",
              "      \n",
              "  <style>\n",
              "    .colab-df-container {\n",
              "      display:flex;\n",
              "      flex-wrap:wrap;\n",
              "      gap: 12px;\n",
              "    }\n",
              "\n",
              "    .colab-df-convert {\n",
              "      background-color: #E8F0FE;\n",
              "      border: none;\n",
              "      border-radius: 50%;\n",
              "      cursor: pointer;\n",
              "      display: none;\n",
              "      fill: #1967D2;\n",
              "      height: 32px;\n",
              "      padding: 0 0 0 0;\n",
              "      width: 32px;\n",
              "    }\n",
              "\n",
              "    .colab-df-convert:hover {\n",
              "      background-color: #E2EBFA;\n",
              "      box-shadow: 0px 1px 2px rgba(60, 64, 67, 0.3), 0px 1px 3px 1px rgba(60, 64, 67, 0.15);\n",
              "      fill: #174EA6;\n",
              "    }\n",
              "\n",
              "    [theme=dark] .colab-df-convert {\n",
              "      background-color: #3B4455;\n",
              "      fill: #D2E3FC;\n",
              "    }\n",
              "\n",
              "    [theme=dark] .colab-df-convert:hover {\n",
              "      background-color: #434B5C;\n",
              "      box-shadow: 0px 1px 3px 1px rgba(0, 0, 0, 0.15);\n",
              "      filter: drop-shadow(0px 1px 2px rgba(0, 0, 0, 0.3));\n",
              "      fill: #FFFFFF;\n",
              "    }\n",
              "  </style>\n",
              "\n",
              "      <script>\n",
              "        const buttonEl =\n",
              "          document.querySelector('#df-22201937-7f67-47f0-b46c-d418fc3e3b22 button.colab-df-convert');\n",
              "        buttonEl.style.display =\n",
              "          google.colab.kernel.accessAllowed ? 'block' : 'none';\n",
              "\n",
              "        async function convertToInteractive(key) {\n",
              "          const element = document.querySelector('#df-22201937-7f67-47f0-b46c-d418fc3e3b22');\n",
              "          const dataTable =\n",
              "            await google.colab.kernel.invokeFunction('convertToInteractive',\n",
              "                                                     [key], {});\n",
              "          if (!dataTable) return;\n",
              "\n",
              "          const docLinkHtml = 'Like what you see? Visit the ' +\n",
              "            '<a target=\"_blank\" href=https://colab.research.google.com/notebooks/data_table.ipynb>data table notebook</a>'\n",
              "            + ' to learn more about interactive tables.';\n",
              "          element.innerHTML = '';\n",
              "          dataTable['output_type'] = 'display_data';\n",
              "          await google.colab.output.renderOutput(dataTable, element);\n",
              "          const docLink = document.createElement('div');\n",
              "          docLink.innerHTML = docLinkHtml;\n",
              "          element.appendChild(docLink);\n",
              "        }\n",
              "      </script>\n",
              "    </div>\n",
              "  </div>\n",
              "  "
            ],
            "text/plain": [
              "  hopelessness freq_dist hopefulness freq_dist\n",
              "0            (tired, 15)            (hope, 32)\n",
              "1             (life, 13)            (wish, 14)\n",
              "2              (hope, 9)           (peace, 14)\n",
              "3               (one, 8)             (xxx, 13)\n",
              "4              (know, 6)             (god, 13)\n",
              "5              (feel, 5)             (may, 11)\n",
              "6              (much, 5)            (know, 10)\n",
              "7              (done, 5)             (see, 10)\n",
              "8              (like, 5)             (love, 9)\n",
              "9              (left, 5)           (please, 9)"
            ]
          },
          "metadata": {},
          "execution_count": 30
        }
      ]
    },
    {
      "cell_type": "code",
      "metadata": {
        "id": "HTziOn7Bg68s"
      },
      "source": [
        "# fazer match entre as duas cartas para saber o quanto elas se diferenciam\n",
        "# com Difflib\n",
        "from difflib import SequenceMatcher\n",
        "\n",
        "sequence = SequenceMatcher(None, hopefulness, hopelessness)\n",
        "\n",
        "#  SequenceMatcher documentation = The basic idea is to find the longest \n",
        "#  contiguous matching subsequence (LCS) that contains no “junk” elements. \n",
        "#  This does not yield minimal edit sequences, but does tend to yield matches \n",
        "#  that “look right” to people."
      ],
      "execution_count": null,
      "outputs": []
    },
    {
      "cell_type": "code",
      "metadata": {
        "colab": {
          "base_uri": "https://localhost:8080/"
        },
        "id": "04sLnVbthfFJ",
        "outputId": "b584567c-9be2-4cf3-f8ab-9ee992e546cd"
      },
      "source": [
        "ratio_a = sequence.ratio()\n",
        "final_ratio = ratio_a * 100\n",
        "print(final_ratio)"
      ],
      "execution_count": null,
      "outputs": [
        {
          "output_type": "stream",
          "name": "stdout",
          "text": [
            "0.7625975244911128\n"
          ]
        }
      ]
    },
    {
      "cell_type": "markdown",
      "metadata": {
        "id": "rbnIr-f5hrGy"
      },
      "source": [
        "A razão deu **0,76% de match** entre as cartas, o que de certa forma era previsto, já que, pela anotação feita, elas sinalizam emoções opostas"
      ]
    },
    {
      "cell_type": "code",
      "metadata": {
        "colab": {
          "base_uri": "https://localhost:8080/"
        },
        "id": "NzJS1TFJexsA",
        "outputId": "b0ee8e6c-f337-47d7-c945-2e465db9965c"
      },
      "source": [
        "# convertendo cartas HOPEFUL E HOPELESS em TF-IDF e usando cosine similiarity\n",
        "\n",
        "from sklearn.feature_extraction.text import TfidfVectorizer\n",
        "\n",
        "documents1 = [hopefulness_text, hopelessness_text]\n",
        "tfidf1 = TfidfVectorizer().fit_transform(documents1)\n",
        "\n",
        "# no need to normalize, since Vectorizer will return normalized tf-idf\n",
        "hopeful_less_similarity = tfidf1 * tfidf1.T\n",
        "print(hopeful_less_similarity)"
      ],
      "execution_count": null,
      "outputs": [
        {
          "output_type": "stream",
          "name": "stdout",
          "text": [
            "  (0, 1)\t0.6953104008759186\n",
            "  (0, 0)\t1.0\n",
            "  (1, 0)\t0.6953104008759186\n",
            "  (1, 1)\t1.0000000000000004\n"
          ]
        }
      ]
    },
    {
      "cell_type": "code",
      "metadata": {
        "colab": {
          "base_uri": "https://localhost:8080/"
        },
        "id": "XeO7qTdFe_zH",
        "outputId": "6b22b690-96bf-4597-e665-19e0d9f986a3"
      },
      "source": [
        "hopeful_less_similarity.toarray() "
      ],
      "execution_count": null,
      "outputs": [
        {
          "output_type": "execute_result",
          "data": {
            "text/plain": [
              "array([[1.       , 0.6953104],\n",
              "       [0.6953104, 1.       ]])"
            ]
          },
          "metadata": {},
          "execution_count": 20
        }
      ]
    },
    {
      "cell_type": "markdown",
      "metadata": {
        "id": "WVQw0ayeXpLz"
      },
      "source": [
        "### Analisando a complexidade gramatical das cartas de HOPEFULNESS e HOPELESSNESS"
      ]
    },
    {
      "cell_type": "code",
      "metadata": {
        "id": "YynFs5I8dobc"
      },
      "source": [
        "# POS tagging em hopefulness\n",
        "hopeful_postag = nlp(hopefulness_text)"
      ],
      "execution_count": null,
      "outputs": []
    },
    {
      "cell_type": "code",
      "metadata": {
        "id": "unw5qN0aIvf1"
      },
      "source": [
        "# POS tagging em hopefulness\n",
        "hopeless_postag = nlp(hopelessness_text)\n",
        "#print(hopeless_postag)"
      ],
      "execution_count": null,
      "outputs": []
    },
    {
      "cell_type": "code",
      "metadata": {
        "id": "ua-86C0NKd0p"
      },
      "source": [
        "# HOPEFULNESS\n",
        "# criando listas para fazer a conversão em dataframe\n",
        "words1 = []\n",
        "upos1 = []\n",
        "xpos1 = []\n",
        "feats1 = []\n",
        "\n",
        "\n",
        "for sent in hopeful_postag.sentences:\n",
        "    for word in sent.words:\n",
        "        words1.append(word.text) \n",
        "        upos1.append(word.upos)\n",
        "        xpos1.append(word.xpos)\n",
        "        if word.feats:\n",
        "            feats1.append(word.feats)\n",
        "        else:\n",
        "            feats1.append('_')\n",
        "\n",
        "# colocando os resultados em um df\n",
        "df_hopeful = pd.DataFrame({'word':words1,\n",
        "                   'upos':upos1,\n",
        "                   'xpos':xpos1})\n",
        "\n",
        "# contando itens únicos na coluna de UPOS\n",
        "hopeful_upos_counts = df_hopeful[\"upos\"].value_counts()\n",
        "print(hopeful_upos_counts)"
      ],
      "execution_count": null,
      "outputs": []
    },
    {
      "cell_type": "code",
      "metadata": {
        "id": "rpHBHn7eK28O"
      },
      "source": [
        "# # HOPELESSNESS\n",
        "# # criando listas para fazer a conversão em dataframe\n",
        "words2 = []\n",
        "upos2 = []\n",
        "xpos2 = []\n",
        "feats2 = []\n",
        "\n",
        "\n",
        "for sent in hopeless_postag.sentences:\n",
        "    for word in sent.words:\n",
        "        words2.append(word.text) \n",
        "        upos2.append(word.upos)\n",
        "        xpos2.append(word.xpos)\n",
        "        if word.feats:\n",
        "            feats2.append(word.feats)\n",
        "        else:\n",
        "            feats2.append('_')\n",
        "\n",
        "# colocando os resultados em um df\n",
        "df_hopeless = pd.DataFrame({'word':words2,\n",
        "                   'upos':upos2,\n",
        "                   'xpos':xpos2})\n",
        "\n",
        "# contando itens únicos na coluna de UPOS\n",
        "hopeless_upos_counts = df_hopeless[\"upos\"].value_counts()\n",
        "print(hopeless_upos_counts)"
      ],
      "execution_count": null,
      "outputs": []
    },
    {
      "cell_type": "code",
      "metadata": {
        "id": "nqYxllTyMXpV"
      },
      "source": [
        "# # contando com a frequência normalizada\n",
        "# # HOPEFULNESS\n",
        "hopeful_upos_norm = df_hopeful[\"upos\"].value_counts(normalize = True)\n",
        "print(hopeful_upos_norm)\n",
        "\n",
        "# # HOPELESSNESS\n",
        "hopeful_upos_norm = df_hopeless[\"upos\"].value_counts(normalize = True)\n",
        "print(hopeless_upos_counts)"
      ],
      "execution_count": null,
      "outputs": []
    },
    {
      "cell_type": "markdown",
      "metadata": {
        "id": "Go2e7hCci9o9"
      },
      "source": [
        "# **Comparando cartas de emoções \"parecidas\"**"
      ]
    },
    {
      "cell_type": "code",
      "metadata": {
        "id": "VacHA7kxSbSv"
      },
      "source": [
        "## abrindo as cartas de happiness_peacefulness\n",
        "with open(path2 + 'happiness_peacefulness_alltext.txt', 'r', encoding='utf-8') as hp:\n",
        "    \n",
        "    #LÊ O TEXTO\n",
        "    happiness = hp.read()\n",
        "\n",
        "# print(happiness)"
      ],
      "execution_count": null,
      "outputs": []
    },
    {
      "cell_type": "code",
      "metadata": {
        "id": "Cvm2HXqxTJ9Y"
      },
      "source": [
        "# happiness processado\n",
        "happiness_text = process_text(happiness)"
      ],
      "execution_count": null,
      "outputs": []
    },
    {
      "cell_type": "code",
      "source": [
        "# tokenizar as palavras\n",
        "words_happy = nltk.word_tokenize(happiness_text)\n",
        "happy_list = nltk.Text(words_happy)\n",
        "\n",
        "# conhecendo o corpus\n",
        "print('O número de tokens nas cartas de HAPPINESS é ' + str(len(words_happy)))\n",
        "print('O número de types nas cartas de HAPPINESS é ' + str(len(set(words_happy))))\n",
        "ratio1 = len(set(words_happy)) / len(words_happy) \n",
        "ratio = ratio1 * 100\n",
        "print('A razão type-token nas cartas de HAPPINESS é ' + str(ratio))"
      ],
      "metadata": {
        "colab": {
          "base_uri": "https://localhost:8080/"
        },
        "id": "TSWcDo5UIVSU",
        "outputId": "066c7461-337f-4c41-c1ae-a507757e0523"
      },
      "execution_count": null,
      "outputs": [
        {
          "output_type": "stream",
          "name": "stdout",
          "text": [
            "O número de tokens nas cartas de HAPPINESS é 364\n",
            "O número de types nas cartas de HAPPINESS é 164\n",
            "A razão type-token nas cartas de HAPPINESS é 45.05494505494506\n"
          ]
        }
      ]
    },
    {
      "cell_type": "code",
      "metadata": {
        "id": "9240T-3MStFe"
      },
      "source": [
        "## abrindo as cartas de love\n",
        "with open(path2 + 'love_alltext.txt', 'r', encoding='utf-8') as lo:\n",
        "    \n",
        "    #LÊ O TEXTO\n",
        "    love = lo.read()\n",
        "\n",
        "# print(love)\n"
      ],
      "execution_count": null,
      "outputs": []
    },
    {
      "cell_type": "code",
      "metadata": {
        "id": "K5AzqbKoTBc8"
      },
      "source": [
        "# love processado\n",
        "love_text = process_text(love)"
      ],
      "execution_count": null,
      "outputs": []
    },
    {
      "cell_type": "code",
      "source": [
        "# tokenizar as palavras\n",
        "words_love = nltk.word_tokenize(love_text)\n",
        "love_list = nltk.Text(words_love)\n",
        "\n",
        "# conhecendo o corpus\n",
        "print('O número de tokens nas cartas de HAPPINESS é ' + str(len(words_love)))\n",
        "print('O número de types nas cartas de HAPPINESS é ' + str(len(set(words_love))))\n",
        "ratio1 = len(set(words_love)) / len(words_love) \n",
        "ratio = ratio1 * 100\n",
        "print('A razão type-token nas cartas de HAPPINESS é ' + str(ratio))"
      ],
      "metadata": {
        "colab": {
          "base_uri": "https://localhost:8080/"
        },
        "id": "nmKHI6wqInGE",
        "outputId": "6ccd0d6d-7f74-4da7-96da-7ce9a1c61923"
      },
      "execution_count": null,
      "outputs": [
        {
          "output_type": "stream",
          "name": "stdout",
          "text": [
            "O número de tokens nas cartas de HAPPINESS é 834\n",
            "O número de types nas cartas de HAPPINESS é 274\n",
            "A razão type-token nas cartas de HAPPINESS é 32.853717026378895\n"
          ]
        }
      ]
    },
    {
      "cell_type": "code",
      "metadata": {
        "id": "q3pIjbYBTWw1"
      },
      "source": [
        "# fazer match entre as duas cartas para saber o quanto elas se diferenciam\n",
        "# com Difflib\n",
        "from difflib import SequenceMatcher\n",
        "\n",
        "sequence1 = SequenceMatcher(None, love_text, happiness_text)"
      ],
      "execution_count": null,
      "outputs": []
    },
    {
      "cell_type": "code",
      "metadata": {
        "colab": {
          "base_uri": "https://localhost:8080/"
        },
        "id": "GSTvkBVeTfWr",
        "outputId": "6b3bc2ec-a46a-425b-f0ae-a25921a4c5ec"
      },
      "source": [
        "ratio1 = sequence1.ratio()\n",
        "final_ratio1 = ratio1 * 100\n",
        "print(final_ratio1)"
      ],
      "execution_count": null,
      "outputs": [
        {
          "output_type": "stream",
          "name": "stdout",
          "text": [
            "0.5605184795936241\n"
          ]
        }
      ]
    },
    {
      "cell_type": "markdown",
      "metadata": {
        "id": "POUQ_dw1WHhJ"
      },
      "source": [
        "**Cosine similiarity:**\n",
        "\n",
        "The resulting similarity ranges from ***−1 meaning exactly opposite, to 1 meaning exactly the same, with 0 indicating orthogonality or decorrelation***, while in-between values indicate intermediate similarity or dissimilarity.\n",
        "\n",
        "For text matching, the attribute vectors A and B are usually the term frequency vectors of the documents. Cosine similarity can be seen as a method of normalizing document length during comparison.\n",
        "\n",
        "Fonte: https://en.wikipedia.org/wiki/Cosine_similarity#Definition"
      ]
    },
    {
      "cell_type": "code",
      "metadata": {
        "id": "UqoAluT_fbzl",
        "colab": {
          "base_uri": "https://localhost:8080/"
        },
        "outputId": "b97bc8a4-a3ec-49d2-c879-b4005aa28452"
      },
      "source": [
        "# convertendo cartas HOPEFUL E HOPELESS em TF-IDF e usando cosine similiarity\n",
        "\n",
        "from sklearn.feature_extraction.text import TfidfVectorizer\n",
        "\n",
        "documents2 = [love_text, happiness_text]\n",
        "tfidf2 = TfidfVectorizer().fit_transform(documents2)\n",
        "\n",
        "# no need to normalize, since Vectorizer will return normalized tf-idf\n",
        "love_happy_similarity = tfidf2 * tfidf2.T\n",
        "print(love_happy_similarity)"
      ],
      "execution_count": null,
      "outputs": [
        {
          "output_type": "stream",
          "name": "stdout",
          "text": [
            "  (0, 1)\t0.4411441923040335\n",
            "  (0, 0)\t1.0000000000000004\n",
            "  (1, 0)\t0.4411441923040335\n",
            "  (1, 1)\t1.0000000000000007\n"
          ]
        }
      ]
    },
    {
      "cell_type": "code",
      "metadata": {
        "id": "2-92qUYpfpN0",
        "colab": {
          "base_uri": "https://localhost:8080/"
        },
        "outputId": "3c0a4fd0-9e26-4ca3-cf51-4a31c9e29139"
      },
      "source": [
        "love_happy_similarity.toarray()"
      ],
      "execution_count": null,
      "outputs": [
        {
          "output_type": "execute_result",
          "data": {
            "text/plain": [
              "array([[1.        , 0.44114419],\n",
              "       [0.44114419, 1.        ]])"
            ]
          },
          "metadata": {},
          "execution_count": 14
        }
      ]
    },
    {
      "cell_type": "markdown",
      "metadata": {
        "id": "HJIQs2AatwF9"
      },
      "source": [
        "Como pode ser visto nas últimas células de código, as cartas de emoções opostas (hopelessness e hopefulness) são mais parecidas que as cartas de emoções semelhantes (love e happiness). A hipótese inicial era que as cartas de hope-fulness e -lessness fossem bem distintas e as de love e happiness fossem muito parecidas. \n",
        "\n",
        "A partir dos indíces de cosseno mostrados, podemos inferir que há temas e colocações semelhantes nas cartas de hopefulness e hopelessness. Enquanto nas cartas de love e happiness, os temas e colocações são menos uniformes entre si."
      ]
    }
  ]
}